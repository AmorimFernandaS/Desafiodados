{
  "nbformat": 4,
  "nbformat_minor": 0,
  "metadata": {
    "colab": {
      "name": "Desafio_Solvimm_Spark.ipynb",
      "provenance": [],
      "collapsed_sections": [],
      "mount_file_id": "14YlvCRv-ru-EAHrk1lbIbqJcVgSp--MM",
      "authorship_tag": "ABX9TyMBRxHwULQ0M7BAKBrIL/vf",
      "include_colab_link": true
    },
    "kernelspec": {
      "name": "python3",
      "display_name": "Python 3"
    },
    "language_info": {
      "name": "python"
    }
  },
  "cells": [
    {
      "cell_type": "markdown",
      "metadata": {
        "id": "view-in-github",
        "colab_type": "text"
      },
      "source": [
        "<a href=\"https://colab.research.google.com/github/AmorimFernandaS/desafiodados/blob/main/Desafio_Solvimm_Spark.ipynb\" target=\"_parent\"><img src=\"https://colab.research.google.com/assets/colab-badge.svg\" alt=\"Open In Colab\"/></a>"
      ]
    },
    {
      "cell_type": "code",
      "source": [
        "#Intalando pacote Pyspark\n",
        "\n",
        "!pip install pyspark "
      ],
      "metadata": {
        "colab": {
          "base_uri": "https://localhost:8080/"
        },
        "id": "s5uLB13P9fyj",
        "outputId": "bda2b863-8a44-47f1-f84d-cd652207ff19"
      },
      "execution_count": 99,
      "outputs": [
        {
          "output_type": "stream",
          "name": "stdout",
          "text": [
            "Looking in indexes: https://pypi.org/simple, https://us-python.pkg.dev/colab-wheels/public/simple/\n",
            "Requirement already satisfied: pyspark in /usr/local/lib/python3.7/dist-packages (3.2.1)\n",
            "Requirement already satisfied: py4j==0.10.9.3 in /usr/local/lib/python3.7/dist-packages (from pyspark) (0.10.9.3)\n"
          ]
        }
      ]
    },
    {
      "cell_type": "code",
      "source": [
        "!pip install -q findspark"
      ],
      "metadata": {
        "id": "psz4gTx_9ZMT"
      },
      "execution_count": 100,
      "outputs": []
    },
    {
      "cell_type": "code",
      "source": [
        "import findspark\n",
        "findspark.init()"
      ],
      "metadata": {
        "id": "OHaJ2X1e9lLA"
      },
      "execution_count": 101,
      "outputs": []
    },
    {
      "cell_type": "code",
      "execution_count": 102,
      "metadata": {
        "id": "CHl6s6JzGrxL"
      },
      "outputs": [],
      "source": [
        "from pyspark.sql import SparkSession\n",
        "import pyspark.sql.functions as f\n",
        "\n",
        "\n",
        "#abrindo sessão spark\n",
        "\n",
        "from pyspark.sql import SparkSession\n",
        "spark= SparkSession.builder\\\n",
        "       .master('local')\\\n",
        "       .appName('DesafioSolvimm')\\\n",
        "       .getOrCreate()"
      ]
    },
    {
      "cell_type": "code",
      "source": [
        "#Importando arq. movies.csv\n",
        "\n",
        "df1=spark.read.options(inferSchema='True',delimiter=';',columns=True).csv('/content/drive/MyDrive/movies.csv')\n",
        "\n",
        "#Nomeando Tabelas\n",
        "filmes=df1.withColumnRenamed('_c0','Movie_Id').withColumnRenamed('_c1','titulo_ano')"
      ],
      "metadata": {
        "id": "aCOUboPo9qqG"
      },
      "execution_count": 103,
      "outputs": []
    },
    {
      "cell_type": "code",
      "source": [
        "#Vizualizando DF\n",
        "\n",
        "filmes.show(truncate=False)"
      ],
      "metadata": {
        "id": "uoAWHn_2BAbw",
        "colab": {
          "base_uri": "https://localhost:8080/"
        },
        "outputId": "a8e3b56a-29d9-4741-f64e-18eb4b0b25b2"
      },
      "execution_count": 104,
      "outputs": [
        {
          "output_type": "stream",
          "name": "stdout",
          "text": [
            "+--------+-----------------------------------------------------------------------------------+\n",
            "|Movie_Id|titulo_ano                                                                         |\n",
            "+--------+-----------------------------------------------------------------------------------+\n",
            "|1       |(Dinosaur Planet, 2003)                                                            |\n",
            "|2       |(Isle of Man TT 2004 Review, 2004)                                                 |\n",
            "|3       |(Character, 1997)                                                                  |\n",
            "|4       |(Paula Abdul's Get Up & Dance, 1994)                                               |\n",
            "|5       |(The Rise and Fall of ECW, 2004)                                                   |\n",
            "|6       |(Sick, 1997)                                                                       |\n",
            "|7       |(8 Man, 1992)                                                                      |\n",
            "|8       |(What the #$*! Do We Know!?, 2004)                                                 |\n",
            "|9       |(Class of Nuke 'Em High 2, 1991)                                                   |\n",
            "|10      |(Fighter, 2001)                                                                    |\n",
            "|11      |(Full Frame: Documentary Shorts, 1999)                                             |\n",
            "|12      |(My Favorite Brunette, 1947)                                                       |\n",
            "|13      |(Lord of the Rings: The Return of the King: Extended Edition: Bonus Material, 2003)|\n",
            "|14      |(Nature: Antarctica, 1982)                                                         |\n",
            "|15      |(Neil Diamond: Greatest Hits Live, 1988)                                           |\n",
            "|16      |(Screamers, 1996)                                                                  |\n",
            "|17      |(7 Seconds, 2005)                                                                  |\n",
            "|18      |(Immortal Beloved, 1994)                                                           |\n",
            "|19      |(By Dawn's Early Light, 2000)                                                      |\n",
            "|20      |(Seeta Aur Geeta, 1972)                                                            |\n",
            "+--------+-----------------------------------------------------------------------------------+\n",
            "only showing top 20 rows\n",
            "\n"
          ]
        }
      ]
    },
    {
      "cell_type": "code",
      "source": [
        "#Importando arq. customers_rating.csv\n",
        "\n",
        "df2= spark.read.options(header=True, inferSchema='True',delimiter=';').csv('/content/drive/MyDrive/Colab Notebooks/customers_rating .csv')"
      ],
      "metadata": {
        "id": "5iu9S5TsCY8I"
      },
      "execution_count": 105,
      "outputs": []
    },
    {
      "cell_type": "code",
      "source": [
        "#Vizualizando DF\n",
        "\n",
        "df2.show()"
      ],
      "metadata": {
        "colab": {
          "base_uri": "https://localhost:8080/"
        },
        "id": "XfwkgjmlJFCS",
        "outputId": "77418b95-fc38-4e2e-e371-07e026f0b7c3"
      },
      "execution_count": 106,
      "outputs": [
        {
          "output_type": "stream",
          "name": "stdout",
          "text": [
            "+-------+------+----------+--------+\n",
            "|Cust_Id|Rating|      Date|Movie_Id|\n",
            "+-------+------+----------+--------+\n",
            "|1488844|   3.0|2005-09-06|       1|\n",
            "| 822109|   5.0|2005-05-13|       1|\n",
            "| 885013|   4.0|2005-10-19|       1|\n",
            "|  30878|   4.0|2005-12-26|       1|\n",
            "| 823519|   3.0|2004-05-03|       1|\n",
            "| 893988|   3.0|2005-11-17|       1|\n",
            "| 124105|   4.0|2004-08-05|       1|\n",
            "|1248029|   3.0|2004-04-22|       1|\n",
            "|1842128|   4.0|2004-05-09|       1|\n",
            "|2238063|   3.0|2005-05-11|       1|\n",
            "|1503895|   4.0|2005-05-19|       1|\n",
            "|2207774|   5.0|2005-06-06|       1|\n",
            "|2590061|   3.0|2004-08-12|       1|\n",
            "|   2442|   3.0|2004-04-14|       1|\n",
            "| 543865|   4.0|2004-05-28|       1|\n",
            "|1209119|   4.0|2004-03-23|       1|\n",
            "| 804919|   4.0|2004-06-10|       1|\n",
            "|1086807|   3.0|2004-12-28|       1|\n",
            "|1711859|   4.0|2005-05-08|       1|\n",
            "| 372233|   5.0|2005-11-23|       1|\n",
            "+-------+------+----------+--------+\n",
            "only showing top 20 rows\n",
            "\n"
          ]
        }
      ]
    },
    {
      "cell_type": "code",
      "source": [
        "#Join Filmes e DF2 prlo Movie_Id\n",
        "\n",
        "df=df2.join(filmes, df2.Movie_Id == filmes.Movie_Id,'inner')\\\n",
        "      .select(df2.Movie_Id, df2.Rating,df2.Date,filmes.titulo_ano)"
      ],
      "metadata": {
        "id": "-h1UVdvjEAY6"
      },
      "execution_count": 107,
      "outputs": []
    },
    {
      "cell_type": "code",
      "source": [
        "#Vizualizando DF\n",
        "\n",
        "df.show()"
      ],
      "metadata": {
        "colab": {
          "base_uri": "https://localhost:8080/"
        },
        "id": "H5rNZfPhHRTC",
        "outputId": "a9bb69ff-6489-4bd2-ca9d-21b044dc3945"
      },
      "execution_count": 108,
      "outputs": [
        {
          "output_type": "stream",
          "name": "stdout",
          "text": [
            "+--------+------+----------+--------------------+\n",
            "|Movie_Id|Rating|      Date|          titulo_ano|\n",
            "+--------+------+----------+--------------------+\n",
            "|       1|   3.0|2005-09-06|(Dinosaur Planet,...|\n",
            "|       1|   5.0|2005-05-13|(Dinosaur Planet,...|\n",
            "|       1|   4.0|2005-10-19|(Dinosaur Planet,...|\n",
            "|       1|   4.0|2005-12-26|(Dinosaur Planet,...|\n",
            "|       1|   3.0|2004-05-03|(Dinosaur Planet,...|\n",
            "|       1|   3.0|2005-11-17|(Dinosaur Planet,...|\n",
            "|       1|   4.0|2004-08-05|(Dinosaur Planet,...|\n",
            "|       1|   3.0|2004-04-22|(Dinosaur Planet,...|\n",
            "|       1|   4.0|2004-05-09|(Dinosaur Planet,...|\n",
            "|       1|   3.0|2005-05-11|(Dinosaur Planet,...|\n",
            "|       1|   4.0|2005-05-19|(Dinosaur Planet,...|\n",
            "|       1|   5.0|2005-06-06|(Dinosaur Planet,...|\n",
            "|       1|   3.0|2004-08-12|(Dinosaur Planet,...|\n",
            "|       1|   3.0|2004-04-14|(Dinosaur Planet,...|\n",
            "|       1|   4.0|2004-05-28|(Dinosaur Planet,...|\n",
            "|       1|   4.0|2004-03-23|(Dinosaur Planet,...|\n",
            "|       1|   4.0|2004-06-10|(Dinosaur Planet,...|\n",
            "|       1|   3.0|2004-12-28|(Dinosaur Planet,...|\n",
            "|       1|   4.0|2005-05-08|(Dinosaur Planet,...|\n",
            "|       1|   5.0|2005-11-23|(Dinosaur Planet,...|\n",
            "+--------+------+----------+--------------------+\n",
            "only showing top 20 rows\n",
            "\n"
          ]
        }
      ]
    },
    {
      "cell_type": "markdown",
      "source": [
        "# **1.1. Quantos filmes estão disponíveis no dataset?**"
      ],
      "metadata": {
        "id": "bkOR2RaiHyaX"
      }
    },
    {
      "cell_type": "code",
      "source": [
        "#.count() faz a contagem das celulas na culuna\n",
        "#.drop_duplicates remove celulas duplicas\n",
        "\n",
        "df_total=filmes.select('titulo_ano').drop_duplicates().count()\n",
        "df_total\n",
        "\n",
        "#saida"
      ],
      "metadata": {
        "colab": {
          "base_uri": "https://localhost:8080/"
        },
        "id": "P2UE6V5NHubt",
        "outputId": "b860b15f-42b9-47da-8895-7cad700c2dae"
      },
      "execution_count": 109,
      "outputs": [
        {
          "output_type": "execute_result",
          "data": {
            "text/plain": [
              "4498"
            ]
          },
          "metadata": {},
          "execution_count": 109
        }
      ]
    },
    {
      "cell_type": "markdown",
      "source": [
        "# **1.2. Qual é o nome dos 5 filmes com melhor média de avaliação?**"
      ],
      "metadata": {
        "id": "IqQDFRHMI_eo"
      }
    },
    {
      "cell_type": "code",
      "source": [
        "#Cauculo de media da culuna Rating agrupando pelo Movie_Id\n",
        "\n",
        "\n",
        "df2.groupBy('Movie_Id').agg(f.mean('Rating')).orderBy(\"avg(Rating)\",ascending=False).show(5)\n",
        "\n",
        "#Saída:"
      ],
      "metadata": {
        "colab": {
          "base_uri": "https://localhost:8080/"
        },
        "id": "CW-IOh0hJMJl",
        "outputId": "4070fab0-37b9-40ca-a1e9-a5dac37639a7"
      },
      "execution_count": 110,
      "outputs": [
        {
          "output_type": "stream",
          "name": "stdout",
          "text": [
            "+--------+------------------+\n",
            "|Movie_Id|       avg(Rating)|\n",
            "+--------+------------------+\n",
            "|    3456|4.6709891019450955|\n",
            "|    3033| 4.586363636363636|\n",
            "|    2102| 4.581295988606693|\n",
            "|    4238| 4.554434413170473|\n",
            "|      13|             4.552|\n",
            "+--------+------------------+\n",
            "only showing top 5 rows\n",
            "\n"
          ]
        }
      ]
    },
    {
      "cell_type": "code",
      "source": [
        "#filtro para localizar na tabela filmes os id's com melhor media encontrados acima.\n",
        "\n",
        "filmes.filter((filmes['Movie_Id']=='3456') |\n",
        "              (filmes['Movie_Id']=='3033') |\n",
        "              (filmes['Movie_Id']=='2102') |\n",
        "              (filmes['Movie_Id']=='4238') |\n",
        "              (filmes['Movie_Id']=='13')).show(truncate=False)\n",
        "\n",
        "#Saída:"
      ],
      "metadata": {
        "colab": {
          "base_uri": "https://localhost:8080/"
        },
        "id": "UpEjJCcqJrVa",
        "outputId": "3c77f8a6-3f16-4833-a29f-0e7398626434"
      },
      "execution_count": 111,
      "outputs": [
        {
          "output_type": "stream",
          "name": "stdout",
          "text": [
            "+--------+-----------------------------------------------------------------------------------+\n",
            "|Movie_Id|titulo_ano                                                                         |\n",
            "+--------+-----------------------------------------------------------------------------------+\n",
            "|13      |(Lord of the Rings: The Return of the King: Extended Edition: Bonus Material, 2003)|\n",
            "|2102    |(The Simpsons: Season 6, 1994)                                                     |\n",
            "|3033    |(Ghost in the Shell: Stand Alone Complex: 2nd Gig, 2005)                           |\n",
            "|3456    |(Lost: Season 1, 2004)                                                             |\n",
            "|4238    |(Inu-Yasha, 2000)                                                                  |\n",
            "+--------+-----------------------------------------------------------------------------------+\n",
            "\n"
          ]
        }
      ]
    },
    {
      "cell_type": "code",
      "source": [
        "#No caso de tabelas que receberam um join basta Agrupar pelo Titulo e fazer a media por Rating.\n",
        "\n",
        "df.groupBy('titulo_ano').agg(f.mean('Rating')).orderBy(\"avg(Rating)\",ascending=False).show(5,truncate=False)\n",
        "\n",
        "#Saída:"
      ],
      "metadata": {
        "colab": {
          "base_uri": "https://localhost:8080/"
        },
        "id": "wGVOn_RtJ5we",
        "outputId": "50a4a0d6-1f33-4ece-c8ed-d43168999070"
      },
      "execution_count": 112,
      "outputs": [
        {
          "output_type": "stream",
          "name": "stdout",
          "text": [
            "+-----------------------------------------------------------------------------------+------------------+\n",
            "|titulo_ano                                                                         |avg(Rating)       |\n",
            "+-----------------------------------------------------------------------------------+------------------+\n",
            "|(Lost: Season 1, 2004)                                                             |4.6709891019450955|\n",
            "|(Ghost in the Shell: Stand Alone Complex: 2nd Gig, 2005)                           |4.586363636363636 |\n",
            "|(The Simpsons: Season 6, 1994)                                                     |4.581295988606693 |\n",
            "|(Inu-Yasha, 2000)                                                                  |4.554434413170473 |\n",
            "|(Lord of the Rings: The Return of the King: Extended Edition: Bonus Material, 2003)|4.552             |\n",
            "+-----------------------------------------------------------------------------------+------------------+\n",
            "only showing top 5 rows\n",
            "\n"
          ]
        }
      ]
    },
    {
      "cell_type": "markdown",
      "source": [
        "# **1.3. Quais os 5 anos com menos lançamentos de filmes?**"
      ],
      "metadata": {
        "id": "MlLTjzWSNVfL"
      }
    },
    {
      "cell_type": "code",
      "source": [
        "#criando um df com a coluna titulo_ano separada\n",
        "\n",
        "filmes2= filmes.withColumn('ano', f.split(filmes['titulo_ano'], ','))\\\n",
        "               .withColumn('titulo_ano', f.col('ano')[0])\\\n",
        "               .withColumn('ano', f.col('ano')[1])\n",
        "filmes2.show(truncate=False)\n",
        "\n",
        "#saída:"
      ],
      "metadata": {
        "colab": {
          "base_uri": "https://localhost:8080/"
        },
        "id": "sgh27DWPXgFQ",
        "outputId": "bea86601-855c-4c88-a642-eafb5dd4edf4"
      },
      "execution_count": 113,
      "outputs": [
        {
          "output_type": "stream",
          "name": "stdout",
          "text": [
            "+--------+----------------------------------------------------------------------------+------+\n",
            "|Movie_Id|titulo_ano                                                                  |ano   |\n",
            "+--------+----------------------------------------------------------------------------+------+\n",
            "|1       |(Dinosaur Planet                                                            | 2003)|\n",
            "|2       |(Isle of Man TT 2004 Review                                                 | 2004)|\n",
            "|3       |(Character                                                                  | 1997)|\n",
            "|4       |(Paula Abdul's Get Up & Dance                                               | 1994)|\n",
            "|5       |(The Rise and Fall of ECW                                                   | 2004)|\n",
            "|6       |(Sick                                                                       | 1997)|\n",
            "|7       |(8 Man                                                                      | 1992)|\n",
            "|8       |(What the #$*! Do We Know!?                                                 | 2004)|\n",
            "|9       |(Class of Nuke 'Em High 2                                                   | 1991)|\n",
            "|10      |(Fighter                                                                    | 2001)|\n",
            "|11      |(Full Frame: Documentary Shorts                                             | 1999)|\n",
            "|12      |(My Favorite Brunette                                                       | 1947)|\n",
            "|13      |(Lord of the Rings: The Return of the King: Extended Edition: Bonus Material| 2003)|\n",
            "|14      |(Nature: Antarctica                                                         | 1982)|\n",
            "|15      |(Neil Diamond: Greatest Hits Live                                           | 1988)|\n",
            "|16      |(Screamers                                                                  | 1996)|\n",
            "|17      |(7 Seconds                                                                  | 2005)|\n",
            "|18      |(Immortal Beloved                                                           | 1994)|\n",
            "|19      |(By Dawn's Early Light                                                      | 2000)|\n",
            "|20      |(Seeta Aur Geeta                                                            | 1972)|\n",
            "+--------+----------------------------------------------------------------------------+------+\n",
            "only showing top 20 rows\n",
            "\n"
          ]
        }
      ]
    },
    {
      "cell_type": "code",
      "source": [
        "#contagem de lançamentos agrupados por ano e ordenado do menos para maior.\n",
        "\n",
        "anos_menos_lanc=filmes2.groupBy('ano').agg(f.count('ano')).orderBy('count(ano)', ascending=True).show(5)\n",
        "\n",
        "#saída:"
      ],
      "metadata": {
        "colab": {
          "base_uri": "https://localhost:8080/"
        },
        "id": "_8VbnQDhXhQc",
        "outputId": "e44a1b92-3f19-4f54-8466-5f2407ecb11c"
      },
      "execution_count": 114,
      "outputs": [
        {
          "output_type": "stream",
          "name": "stdout",
          "text": [
            "+------+----------+\n",
            "|   ano|count(ano)|\n",
            "+------+----------+\n",
            "| 1915)|         1|\n",
            "| 1922)|         1|\n",
            "| 1917)|         1|\n",
            "| 1926)|         1|\n",
            "| 1918)|         2|\n",
            "+------+----------+\n",
            "only showing top 5 rows\n",
            "\n"
          ]
        }
      ]
    },
    {
      "cell_type": "markdown",
      "source": [
        "# **1.4.Quantos filmes que possuem avaliação maior ou igual a 4.7, considerando apenas os filmes avaliados na última data de avaliação do dataset?**"
      ],
      "metadata": {
        "id": "a6XkIe-VNlXn"
      }
    },
    {
      "cell_type": "code",
      "source": [
        "#Modificando o tipo da coluna Data que estava como string.\n",
        "\n",
        "data= df.withColumn(\"Data\", df[\"Date\"].cast('Date')).drop('Date')\n",
        "data.show()\n",
        "\n"
      ],
      "metadata": {
        "id": "Pdf7qyEqNo0Q",
        "colab": {
          "base_uri": "https://localhost:8080/"
        },
        "outputId": "49482eb3-a54d-4252-9a82-6f7d4a86d5c3"
      },
      "execution_count": 115,
      "outputs": [
        {
          "output_type": "stream",
          "name": "stdout",
          "text": [
            "+--------+------+--------------------+----------+\n",
            "|Movie_Id|Rating|          titulo_ano|      Data|\n",
            "+--------+------+--------------------+----------+\n",
            "|       1|   3.0|(Dinosaur Planet,...|2005-09-06|\n",
            "|       1|   5.0|(Dinosaur Planet,...|2005-05-13|\n",
            "|       1|   4.0|(Dinosaur Planet,...|2005-10-19|\n",
            "|       1|   4.0|(Dinosaur Planet,...|2005-12-26|\n",
            "|       1|   3.0|(Dinosaur Planet,...|2004-05-03|\n",
            "|       1|   3.0|(Dinosaur Planet,...|2005-11-17|\n",
            "|       1|   4.0|(Dinosaur Planet,...|2004-08-05|\n",
            "|       1|   3.0|(Dinosaur Planet,...|2004-04-22|\n",
            "|       1|   4.0|(Dinosaur Planet,...|2004-05-09|\n",
            "|       1|   3.0|(Dinosaur Planet,...|2005-05-11|\n",
            "|       1|   4.0|(Dinosaur Planet,...|2005-05-19|\n",
            "|       1|   5.0|(Dinosaur Planet,...|2005-06-06|\n",
            "|       1|   3.0|(Dinosaur Planet,...|2004-08-12|\n",
            "|       1|   3.0|(Dinosaur Planet,...|2004-04-14|\n",
            "|       1|   4.0|(Dinosaur Planet,...|2004-05-28|\n",
            "|       1|   4.0|(Dinosaur Planet,...|2004-03-23|\n",
            "|       1|   4.0|(Dinosaur Planet,...|2004-06-10|\n",
            "|       1|   3.0|(Dinosaur Planet,...|2004-12-28|\n",
            "|       1|   4.0|(Dinosaur Planet,...|2005-05-08|\n",
            "|       1|   5.0|(Dinosaur Planet,...|2005-11-23|\n",
            "+--------+------+--------------------+----------+\n",
            "only showing top 20 rows\n",
            "\n"
          ]
        }
      ]
    },
    {
      "cell_type": "code",
      "source": [
        "#vizualizando  \n",
        "\n",
        "data.printSchema"
      ],
      "metadata": {
        "colab": {
          "base_uri": "https://localhost:8080/"
        },
        "id": "8QsF2FAvPML1",
        "outputId": "8f25356c-14be-4fde-8d05-6232f3b4d757"
      },
      "execution_count": 116,
      "outputs": [
        {
          "output_type": "execute_result",
          "data": {
            "text/plain": [
              "<bound method DataFrame.printSchema of DataFrame[Movie_Id: int, Rating: double, titulo_ano: string, Data: date]>"
            ]
          },
          "metadata": {},
          "execution_count": 116
        }
      ]
    },
    {
      "cell_type": "code",
      "source": [
        "#Localizar a Ultima data de Avaliação usando a função .Max()\n",
        "\n",
        "data_max=data.agg(f.max('Data')).show()\n",
        "\n",
        "#Saída:"
      ],
      "metadata": {
        "colab": {
          "base_uri": "https://localhost:8080/"
        },
        "id": "4U8Y3O1sPd2t",
        "outputId": "895c0ff9-e911-4e91-9082-aaa0781d415d"
      },
      "execution_count": 117,
      "outputs": [
        {
          "output_type": "stream",
          "name": "stdout",
          "text": [
            "+----------+\n",
            "| max(Data)|\n",
            "+----------+\n",
            "|2005-12-31|\n",
            "+----------+\n",
            "\n"
          ]
        }
      ]
    },
    {
      "cell_type": "code",
      "source": [
        "#Filtro para localizar filmes avaliados na data encontrada\n",
        "#media das avaliações dos filmes localizados agrupados por Movie_id e Titulo\n",
        "\n",
        "ultima_data= data.filter(data.Data=='2005-12-31')\n",
        "mean_ultima_data= ultima_data.groupBy('Movie_id','titulo_ano').agg(f.mean('Rating').alias('media'))\n",
        "mean_ultima_data.show()\n",
        "\n",
        "#Saída:"
      ],
      "metadata": {
        "colab": {
          "base_uri": "https://localhost:8080/"
        },
        "id": "NNYuInb3P2e1",
        "outputId": "5e147437-3069-4ca0-b350-2d6b56bc480a"
      },
      "execution_count": 118,
      "outputs": [
        {
          "output_type": "stream",
          "name": "stdout",
          "text": [
            "+--------+--------------------+------------------+\n",
            "|Movie_id|          titulo_ano|             media|\n",
            "+--------+--------------------+------------------+\n",
            "|     426|(Recess: School's...|               4.0|\n",
            "|     482|       (Frida, 2002)| 4.666666666666667|\n",
            "|     725|(Woman Thou Art L...|               1.0|\n",
            "|     763|(The Poseidon Adv...|               5.0|\n",
            "|     275|      (Evelyn, 2002)|               5.0|\n",
            "|     338|(The Three Stooge...|               5.0|\n",
            "|     537|(Here is Greenwoo...|               3.0|\n",
            "|     457|(Kill Bill: Vol. ...| 3.857142857142857|\n",
            "|     962|       (I Spy, 2002)|2.6666666666666665|\n",
            "|      30|(Something's Gott...|              3.68|\n",
            "|      79| (The Killing, 1956)|               4.0|\n",
            "|     210|     (Onmyoji, 2001)|               5.0|\n",
            "|     316|(Futurama: Monste...|               5.0|\n",
            "|     989|(The Door in the ...|               3.0|\n",
            "|       8|(What the #$*! Do...|3.6666666666666665|\n",
            "|     809|(Left Behind II: ...|              3.25|\n",
            "|     239|(Winnie the Pooh:...|               5.0|\n",
            "|     626|(They Died with T...|               4.0|\n",
            "|     817|(My Bodyguard, 1980)|               3.5|\n",
            "|     616|(SCTV Network 90:...|               2.5|\n",
            "+--------+--------------------+------------------+\n",
            "only showing top 20 rows\n",
            "\n"
          ]
        }
      ]
    },
    {
      "cell_type": "code",
      "source": [
        "#Filtro no df de medias para encontrar filmes com avaliação maior ou Igual a 4.7.\n",
        "#.count() retorna a contagem das celulas. Que totaliza os filmes encontrados acima\n",
        "\n",
        "total_filmes= mean_ultima_data.filter(mean_ultima_data.media >= 4.7)\n",
        "total_filmes.count()\n",
        "\n",
        "#saída:"
      ],
      "metadata": {
        "colab": {
          "base_uri": "https://localhost:8080/"
        },
        "id": "nmFAFevzReQh",
        "outputId": "22b32f8d-de8e-4a55-b867-9fbc40aedb67"
      },
      "execution_count": 119,
      "outputs": [
        {
          "output_type": "execute_result",
          "data": {
            "text/plain": [
              "195"
            ]
          },
          "metadata": {},
          "execution_count": 119
        }
      ]
    },
    {
      "cell_type": "markdown",
      "source": [
        "\n",
        "# **1.5. Dos filmes encontrados na questão anterior, quais são os 10 filmes com as piores notas e quais as notas?**"
      ],
      "metadata": {
        "id": "nAbUKbGbTXCo"
      }
    },
    {
      "cell_type": "code",
      "source": [
        "#Filmes encontrados na questao anterior ordenados da menor pra maior media\n",
        "#exibindo os 10 com a menores notas\n",
        "\n",
        "total_filmes.orderBy('media',ascending=True).show(10,truncate=False)"
      ],
      "metadata": {
        "colab": {
          "base_uri": "https://localhost:8080/"
        },
        "id": "XIj1MeTuTSNM",
        "outputId": "df86aa9c-60e6-47fb-a1fd-2d1f56eedeb3"
      },
      "execution_count": 120,
      "outputs": [
        {
          "output_type": "stream",
          "name": "stdout",
          "text": [
            "+--------+---------------------------------------+-----------------+\n",
            "|Movie_id|titulo_ano                             |media            |\n",
            "+--------+---------------------------------------+-----------------+\n",
            "|3446    |(Spirited Away, 2002)                  |4.714285714285714|\n",
            "|1800    |(An Evening With Kevin Smith, 2002)    |4.75             |\n",
            "|2129    |(The Twilight Zone: Vol. 41, 1960)     |4.75             |\n",
            "|2585    |(Absolutely Fabulous: Series 2, 1994)  |4.75             |\n",
            "|3551    |(Pete's Dragon, 1977)                  |4.75             |\n",
            "|4409    |(SpongeBob SquarePants: Season 3, 2002)|4.75             |\n",
            "|1947    |(Gilmore Girls: Season 3, 2002)        |4.75             |\n",
            "|1208    |(The Twilight Zone: Vol. 15, 1963)     |4.75             |\n",
            "|677     |(In the Mood for Love, 2001)           |4.8              |\n",
            "|4353    |(Curb Your Enthusiasm: Season 3, 2002) |4.8              |\n",
            "+--------+---------------------------------------+-----------------+\n",
            "only showing top 10 rows\n",
            "\n"
          ]
        }
      ]
    },
    {
      "cell_type": "markdown",
      "source": [
        "# **1.6. Quais os id's dos 5 customer que mais avaliaram filmes e quantas avaliações cada um fez?**"
      ],
      "metadata": {
        "id": "7oAdG01OUkya"
      }
    },
    {
      "cell_type": "code",
      "source": [
        "#Contagem das celulas agrupando pelo Cust_Id ordenado do maior para menor\n",
        "\n",
        "df2.groupBy('Cust_Id').count().orderBy('count',ascending=False).show(5)"
      ],
      "metadata": {
        "colab": {
          "base_uri": "https://localhost:8080/"
        },
        "id": "_4ZWU3SaUmGF",
        "outputId": "a886b02a-5447-4b51-85b8-4d812eda5a87"
      },
      "execution_count": 121,
      "outputs": [
        {
          "output_type": "stream",
          "name": "stdout",
          "text": [
            "+-------+-----+\n",
            "|Cust_Id|count|\n",
            "+-------+-----+\n",
            "| 305344| 4467|\n",
            "| 387418| 4422|\n",
            "|2439493| 4195|\n",
            "|1664010| 4019|\n",
            "|2118461| 3769|\n",
            "+-------+-----+\n",
            "only showing top 5 rows\n",
            "\n"
          ]
        }
      ]
    }
  ]
}